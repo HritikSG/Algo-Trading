{
 "cells": [
  {
   "cell_type": "code",
   "execution_count": 1,
   "id": "4cf5fd22",
   "metadata": {},
   "outputs": [
    {
     "data": {
      "text/plain": [
       "['TATAMOTORS.BO.csv', 'TATAPOWER.NS.csv', 'TCS.BO.csv', 'YESBANK.BO.csv']"
      ]
     },
     "execution_count": 1,
     "metadata": {},
     "output_type": "execute_result"
    }
   ],
   "source": [
    "import os \n",
    "\n",
    "os.listdir(\"data\")"
   ]
  },
  {
   "cell_type": "code",
   "execution_count": 2,
   "id": "6f911a1e",
   "metadata": {},
   "outputs": [
    {
     "data": {
      "text/html": [
       "<div>\n",
       "<style scoped>\n",
       "    .dataframe tbody tr th:only-of-type {\n",
       "        vertical-align: middle;\n",
       "    }\n",
       "\n",
       "    .dataframe tbody tr th {\n",
       "        vertical-align: top;\n",
       "    }\n",
       "\n",
       "    .dataframe thead th {\n",
       "        text-align: right;\n",
       "    }\n",
       "</style>\n",
       "<table border=\"1\" class=\"dataframe\">\n",
       "  <thead>\n",
       "    <tr style=\"text-align: right;\">\n",
       "      <th></th>\n",
       "      <th>Date</th>\n",
       "      <th>Open</th>\n",
       "      <th>High</th>\n",
       "      <th>Low</th>\n",
       "      <th>Close</th>\n",
       "      <th>Adj Close</th>\n",
       "      <th>Volume</th>\n",
       "    </tr>\n",
       "  </thead>\n",
       "  <tbody>\n",
       "    <tr>\n",
       "      <th>0</th>\n",
       "      <td>2022-03-28</td>\n",
       "      <td>12.73</td>\n",
       "      <td>12.81</td>\n",
       "      <td>12.53</td>\n",
       "      <td>12.58</td>\n",
       "      <td>12.58</td>\n",
       "      <td>18530730</td>\n",
       "    </tr>\n",
       "    <tr>\n",
       "      <th>1</th>\n",
       "      <td>2022-03-29</td>\n",
       "      <td>12.59</td>\n",
       "      <td>12.79</td>\n",
       "      <td>12.48</td>\n",
       "      <td>12.54</td>\n",
       "      <td>12.54</td>\n",
       "      <td>19224482</td>\n",
       "    </tr>\n",
       "    <tr>\n",
       "      <th>2</th>\n",
       "      <td>2022-03-30</td>\n",
       "      <td>12.65</td>\n",
       "      <td>12.72</td>\n",
       "      <td>12.11</td>\n",
       "      <td>12.28</td>\n",
       "      <td>12.28</td>\n",
       "      <td>27568265</td>\n",
       "    </tr>\n",
       "    <tr>\n",
       "      <th>3</th>\n",
       "      <td>2022-03-31</td>\n",
       "      <td>12.17</td>\n",
       "      <td>12.46</td>\n",
       "      <td>12.17</td>\n",
       "      <td>12.29</td>\n",
       "      <td>12.29</td>\n",
       "      <td>19150499</td>\n",
       "    </tr>\n",
       "    <tr>\n",
       "      <th>4</th>\n",
       "      <td>2022-04-01</td>\n",
       "      <td>12.30</td>\n",
       "      <td>12.72</td>\n",
       "      <td>12.23</td>\n",
       "      <td>12.67</td>\n",
       "      <td>12.67</td>\n",
       "      <td>14753699</td>\n",
       "    </tr>\n",
       "    <tr>\n",
       "      <th>5</th>\n",
       "      <td>2022-04-04</td>\n",
       "      <td>12.68</td>\n",
       "      <td>13.19</td>\n",
       "      <td>12.68</td>\n",
       "      <td>13.10</td>\n",
       "      <td>13.10</td>\n",
       "      <td>26863881</td>\n",
       "    </tr>\n",
       "    <tr>\n",
       "      <th>6</th>\n",
       "      <td>2022-04-05</td>\n",
       "      <td>13.25</td>\n",
       "      <td>13.29</td>\n",
       "      <td>12.95</td>\n",
       "      <td>13.02</td>\n",
       "      <td>13.02</td>\n",
       "      <td>19264661</td>\n",
       "    </tr>\n",
       "    <tr>\n",
       "      <th>7</th>\n",
       "      <td>2022-04-06</td>\n",
       "      <td>13.01</td>\n",
       "      <td>15.20</td>\n",
       "      <td>12.93</td>\n",
       "      <td>14.69</td>\n",
       "      <td>14.69</td>\n",
       "      <td>100473091</td>\n",
       "    </tr>\n",
       "    <tr>\n",
       "      <th>8</th>\n",
       "      <td>2022-04-07</td>\n",
       "      <td>15.30</td>\n",
       "      <td>16.25</td>\n",
       "      <td>14.88</td>\n",
       "      <td>15.57</td>\n",
       "      <td>15.57</td>\n",
       "      <td>89054748</td>\n",
       "    </tr>\n",
       "    <tr>\n",
       "      <th>9</th>\n",
       "      <td>2022-04-08</td>\n",
       "      <td>15.70</td>\n",
       "      <td>16.00</td>\n",
       "      <td>15.15</td>\n",
       "      <td>15.66</td>\n",
       "      <td>15.66</td>\n",
       "      <td>56868364</td>\n",
       "    </tr>\n",
       "  </tbody>\n",
       "</table>\n",
       "</div>"
      ],
      "text/plain": [
       "         Date   Open   High    Low  Close  Adj Close     Volume\n",
       "0  2022-03-28  12.73  12.81  12.53  12.58      12.58   18530730\n",
       "1  2022-03-29  12.59  12.79  12.48  12.54      12.54   19224482\n",
       "2  2022-03-30  12.65  12.72  12.11  12.28      12.28   27568265\n",
       "3  2022-03-31  12.17  12.46  12.17  12.29      12.29   19150499\n",
       "4  2022-04-01  12.30  12.72  12.23  12.67      12.67   14753699\n",
       "5  2022-04-04  12.68  13.19  12.68  13.10      13.10   26863881\n",
       "6  2022-04-05  13.25  13.29  12.95  13.02      13.02   19264661\n",
       "7  2022-04-06  13.01  15.20  12.93  14.69      14.69  100473091\n",
       "8  2022-04-07  15.30  16.25  14.88  15.57      15.57   89054748\n",
       "9  2022-04-08  15.70  16.00  15.15  15.66      15.66   56868364"
      ]
     },
     "execution_count": 2,
     "metadata": {},
     "output_type": "execute_result"
    }
   ],
   "source": [
    "import pandas as pd \n",
    "\n",
    "data=pd.read_csv(\"data/YESBANK.BO.csv\")\n",
    "data.head(10)"
   ]
  },
  {
   "cell_type": "code",
   "execution_count": 3,
   "id": "4112e01d",
   "metadata": {},
   "outputs": [
    {
     "data": {
      "text/html": [
       "<div>\n",
       "<style scoped>\n",
       "    .dataframe tbody tr th:only-of-type {\n",
       "        vertical-align: middle;\n",
       "    }\n",
       "\n",
       "    .dataframe tbody tr th {\n",
       "        vertical-align: top;\n",
       "    }\n",
       "\n",
       "    .dataframe thead th {\n",
       "        text-align: right;\n",
       "    }\n",
       "</style>\n",
       "<table border=\"1\" class=\"dataframe\">\n",
       "  <thead>\n",
       "    <tr style=\"text-align: right;\">\n",
       "      <th></th>\n",
       "      <th>Date</th>\n",
       "      <th>Close</th>\n",
       "    </tr>\n",
       "  </thead>\n",
       "  <tbody>\n",
       "    <tr>\n",
       "      <th>0</th>\n",
       "      <td>2022-03-28</td>\n",
       "      <td>12.58</td>\n",
       "    </tr>\n",
       "    <tr>\n",
       "      <th>1</th>\n",
       "      <td>2022-03-29</td>\n",
       "      <td>12.54</td>\n",
       "    </tr>\n",
       "    <tr>\n",
       "      <th>2</th>\n",
       "      <td>2022-03-30</td>\n",
       "      <td>12.28</td>\n",
       "    </tr>\n",
       "    <tr>\n",
       "      <th>3</th>\n",
       "      <td>2022-03-31</td>\n",
       "      <td>12.29</td>\n",
       "    </tr>\n",
       "    <tr>\n",
       "      <th>4</th>\n",
       "      <td>2022-04-01</td>\n",
       "      <td>12.67</td>\n",
       "    </tr>\n",
       "    <tr>\n",
       "      <th>5</th>\n",
       "      <td>2022-04-04</td>\n",
       "      <td>13.10</td>\n",
       "    </tr>\n",
       "    <tr>\n",
       "      <th>6</th>\n",
       "      <td>2022-04-05</td>\n",
       "      <td>13.02</td>\n",
       "    </tr>\n",
       "    <tr>\n",
       "      <th>7</th>\n",
       "      <td>2022-04-06</td>\n",
       "      <td>14.69</td>\n",
       "    </tr>\n",
       "    <tr>\n",
       "      <th>8</th>\n",
       "      <td>2022-04-07</td>\n",
       "      <td>15.57</td>\n",
       "    </tr>\n",
       "    <tr>\n",
       "      <th>9</th>\n",
       "      <td>2022-04-08</td>\n",
       "      <td>15.66</td>\n",
       "    </tr>\n",
       "  </tbody>\n",
       "</table>\n",
       "</div>"
      ],
      "text/plain": [
       "         Date  Close\n",
       "0  2022-03-28  12.58\n",
       "1  2022-03-29  12.54\n",
       "2  2022-03-30  12.28\n",
       "3  2022-03-31  12.29\n",
       "4  2022-04-01  12.67\n",
       "5  2022-04-04  13.10\n",
       "6  2022-04-05  13.02\n",
       "7  2022-04-06  14.69\n",
       "8  2022-04-07  15.57\n",
       "9  2022-04-08  15.66"
      ]
     },
     "execution_count": 3,
     "metadata": {},
     "output_type": "execute_result"
    }
   ],
   "source": [
    "df=data[[\"Date\",\"Close\"]]\n",
    "df.head(10)"
   ]
  },
  {
   "cell_type": "code",
   "execution_count": 4,
   "id": "6ef801a1",
   "metadata": {},
   "outputs": [
    {
     "data": {
      "image/png": "[encoded data removed]",
      "text/plain": [
       "<Figure size 2000x800 with 1 Axes>"
      ]
     },
     "metadata": {},
     "output_type": "display_data"
    }
   ],
   "source": [
    "import matplotlib.pyplot as plt\n",
    "\n",
    "plt.figure(figsize=(20,8))\n",
    "plt.plot(df.Close.values)\n",
    "plt.show()"
   ]
  },
  {
   "cell_type": "code",
   "execution_count": 5,
   "id": "8ad2027a",
   "metadata": {},
   "outputs": [],
   "source": [
    "import numpy as np\n",
    "\n",
    "mean=np.mean(df.Close.values)\n",
    "adjusted_series=df.Close.values-mean"
   ]
  },
  {
   "cell_type": "code",
   "execution_count": 6,
   "id": "1d8d860f",
   "metadata": {},
   "outputs": [],
   "source": [
    "def format(series: np.array = np.array([]), look_back: int = 5):\n",
    "    \"\"\"\n",
    "    Create a (X, Y) feature-output dataset for ML workflow\n",
    "    :param series: Numpy (1, ) array\n",
    "    :param look_back: The number of previous features to be considered for forecasting\n",
    "    :return: X and Y modelling parameters\n",
    "    \"\"\"\n",
    "    X = []\n",
    "    Y = []\n",
    "    for n in range(len(series)):\n",
    "        k = n + look_back\n",
    "        if k >= len(series):\n",
    "            break\n",
    "        Xtn = series[n:k]\n",
    "        if len(Xtn) != look_back:\n",
    "            break\n",
    "        Ytn = series[k]\n",
    "        X.append(Xtn)\n",
    "        Y.append(Ytn)\n",
    "    return np.array(X), np.array(Y)"
   ]
  },
  {
   "cell_type": "code",
   "execution_count": 7,
   "id": "393ade8b",
   "metadata": {},
   "outputs": [],
   "source": [
    "X,y=format(adjusted_series,30)"
   ]
  },
  {
   "cell_type": "code",
   "execution_count": 8,
   "id": "7782ae51",
   "metadata": {},
   "outputs": [
    {
     "data": {
      "text/plain": [
       "(221, 30)"
      ]
     },
     "execution_count": 8,
     "metadata": {},
     "output_type": "execute_result"
    }
   ],
   "source": [
    "X.shape"
   ]
  },
  {
   "cell_type": "code",
   "execution_count": null,
   "id": "5a145dd1",
   "metadata": {},
   "outputs": [],
   "source": []
  },
  {
   "cell_type": "code",
   "execution_count": 10,
   "id": "c10e69df",
   "metadata": {},
   "outputs": [
    {
     "ename": "ValueError",
     "evalue": "cannot reshape array of size 6630 into shape (6630,1,30)",
     "output_type": "error",
     "traceback": [
      "\u001b[1;31m---------------------------------------------------------------------------\u001b[0m",
      "\u001b[1;31mValueError\u001b[0m                                Traceback (most recent call last)",
      "\u001b[1;32m~\\AppData\\Local\\Temp\\ipykernel_126672\\1406208128.py\u001b[0m in \u001b[0;36m<module>\u001b[1;34m\u001b[0m\n\u001b[1;32m----> 1\u001b[1;33m \u001b[0mXr\u001b[0m\u001b[1;33m=\u001b[0m\u001b[0mX\u001b[0m\u001b[1;33m.\u001b[0m\u001b[0mreshape\u001b[0m\u001b[1;33m(\u001b[0m\u001b[1;33m(\u001b[0m\u001b[1;36m6630\u001b[0m\u001b[1;33m,\u001b[0m\u001b[1;36m1\u001b[0m\u001b[1;33m,\u001b[0m\u001b[1;36m30\u001b[0m\u001b[1;33m)\u001b[0m\u001b[1;33m)\u001b[0m\u001b[1;33m\u001b[0m\u001b[1;33m\u001b[0m\u001b[0m\n\u001b[0m",
      "\u001b[1;31mValueError\u001b[0m: cannot reshape array of size 6630 into shape (6630,1,30)"
     ]
    }
   ],
   "source": [
    "Xr=X.reshape((6630,1,30))"
   ]
  },
  {
   "cell_type": "code",
   "execution_count": null,
   "id": "256ecf74",
   "metadata": {},
   "outputs": [],
   "source": [
    "import tensorflow as tf"
   ]
  },
  {
   "cell_type": "code",
   "execution_count": null,
   "id": "d4674843",
   "metadata": {},
   "outputs": [],
   "source": [
    "# Proposed Long Short-Term Memoory(LSTM) model\n",
    "import tensorflow as tf\n",
    "from keras.models import Sequential\n",
    "tf.random.set_seed(42)\n",
    "model = Sequential(name=\"Proposed_LSTM\")\n",
    "model.add(tf.keras.layers.LSTM(units=512, \n",
    "                              activation='relu', \n",
    "                              input_shape=(1,30), return_sequences=True, name=\"input\"))\n",
    "model.add(tf.keras.layers.LSTM(units=512, \n",
    "                              activation='relu', name=\"lstm\"))\n",
    "model.add(tf.keras.layers.Dense(1, name=\"output\"))\n",
    "\n",
    "model.compile(loss='mse', optimizer='adam')\n"
   ]
  },
  {
   "cell_type": "code",
   "execution_count": null,
   "id": "af5bae36",
   "metadata": {},
   "outputs": [],
   "source": [
    "history=model.fit(Xr,y,epochs=150,batch_size=32)"
   ]
  },
  {
   "cell_type": "code",
   "execution_count": null,
   "id": "7a1ce5ba",
   "metadata": {},
   "outputs": [],
   "source": [
    "yhat=model.predict(Xr)\n",
    "print(yhat)"
   ]
  },
  {
   "cell_type": "code",
   "execution_count": null,
   "id": "40d75b88",
   "metadata": {},
   "outputs": [],
   "source": [
    "yhat=yhat+mean\n",
    "y=y+mean"
   ]
  },
  {
   "cell_type": "code",
   "execution_count": null,
   "id": "1adcf939",
   "metadata": {},
   "outputs": [],
   "source": [
    "from sklearn.metrics import mean_squared_error\n",
    "from math import sqrt\n",
    "\n",
    "rmse=sqrt(mean_squared_error(y,yhat))\n",
    "print(rmse)"
   ]
  },
  {
   "cell_type": "code",
   "execution_count": null,
   "id": "39ffd55d",
   "metadata": {},
   "outputs": [],
   "source": [
    "import matplotlib.pyplot as plt\n",
    "\n",
    "plt.figure(figsize=(20,8))\n",
    "plt.plot(y,label=\"original series\")\n",
    "plt.plot(yhat,label=\"fitted series\")\n",
    "plt.legend()\n",
    "plt.show()"
   ]
  },
  {
   "cell_type": "code",
   "execution_count": null,
   "id": "238bac49",
   "metadata": {},
   "outputs": [],
   "source": [
    "m=10\n",
    "predictions = []\n",
    "x = Xr[-1]  # Initially take last training input for predicting its immediate next value\n",
    "\n",
    "for i in range(m):\n",
    "  x = x.reshape((1, 1, 30))  # Prepare the input for a tensorflow model using reshaping\n",
    "  prediction = model.predict(x)   # Predict the immediate next value\n",
    "  x = x.ravel()  # Ravel method converts the 3D array to single dimension array \n",
    "  x = np.delete(x, 0)  # Now, we delete first item of the original input\n",
    "  x = np.append(x, prediction[0][0])  # and append the predicted value to use it for next predictions\n",
    "  predictions.append(prediction[0][0])   # append the predicted value to 'predictions' list"
   ]
  },
  {
   "cell_type": "code",
   "execution_count": null,
   "id": "19a584a6",
   "metadata": {},
   "outputs": [],
   "source": [
    "print(predictions)"
   ]
  },
  {
   "cell_type": "code",
   "execution_count": null,
   "id": "1a6ef9fa",
   "metadata": {},
   "outputs": [],
   "source": [
    "import numpy as np\n",
    "plt.plot(predictions,marker=\"o\")\n",
    "plt.xticks(np.linspace(0,9,10))\n",
    "plt.show()"
   ]
  },
  {
   "cell_type": "code",
   "execution_count": null,
   "id": "cbe97aa8",
   "metadata": {},
   "outputs": [],
   "source": []
  },
  {
   "cell_type": "code",
   "execution_count": null,
   "id": "5a1a3365",
   "metadata": {},
   "outputs": [],
   "source": []
  },
  {
   "cell_type": "code",
   "execution_count": null,
   "id": "9df890d8",
   "metadata": {},
   "outputs": [],
   "source": []
  }
 ],
 "metadata": {
  "kernelspec": {
   "display_name": "Python 3 (ipykernel)",
   "language": "python",
   "name": "python3"
  },
  "language_info": {
   "codemirror_mode": {
    "name": "ipython",
    "version": 3
   },
   "file_extension": ".py",
   "mimetype": "text/x-python",
   "name": "python",
   "nbconvert_exporter": "python",
   "pygments_lexer": "ipython3",
   "version": "3.9.13"
  }
 },
 "nbformat": 4,
 "nbformat_minor": 5
}
